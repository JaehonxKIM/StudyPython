{
 "cells": [
  {
   "cell_type": "markdown",
   "metadata": {},
   "source": [
    "## Array zeros"
   ]
  },
  {
   "cell_type": "code",
   "execution_count": 5,
   "metadata": {},
   "outputs": [
    {
     "name": "stdout",
     "output_type": "stream",
     "text": [
      "[[0. 0. 0. 0.]\n",
      " [0. 0. 0. 0.]\n",
      " [0. 0. 0. 0.]]\n"
     ]
    }
   ],
   "source": [
    "import numpy as np\n",
    "x= np.zeros((3,4))\n",
    "x[0][0] = 0; x[0][1] = 2; x[0][2] =0; x[0][3]=0\n",
    "x[1][0] = 0; x[1][1] = 2; x[1][2] =0; x[1][3]=0\n",
    "x[2][0] = 0; x[2][1] = 2; x[2][2] =0; x[2][3]=0\n",
    "for i in range(3):\n",
    "    for j in range(4):\n",
    "        x[i][j]= 0\n",
    "print(x)"
   ]
  },
  {
   "cell_type": "markdown",
   "metadata": {},
   "source": [
    "## Random data SUM (최대한 간단하게)"
   ]
  },
  {
   "cell_type": "code",
   "execution_count": 28,
   "metadata": {},
   "outputs": [
    {
     "data": {
      "text/plain": [
       "[113, 40]"
      ]
     },
     "execution_count": 28,
     "metadata": {},
     "output_type": "execute_result"
    }
   ],
   "source": [
    "import numpy as np\n",
    "x=np.array([[22,3,4] , [2,2,3]]) # [[x1,x2,x3],[x1,x2,x3]] x1을 몸무게 x2는 나이 x3를 수면량이라고 가정\n",
    "y= ([100,150]) # 1번사람의 혈압이 100 2번사람의 혈압이 150일때\n",
    "w= ([3,5,8]) # x1의 w값 3 x2의 w값 5 x3의 w값 8\n",
    "y1= x*w  #([22*3, 3*5, 4*8]) , [2*3, 2*5, 3*8]\n",
    "y_hat =[]\n",
    "for i in y1:\n",
    "    y_hat.append(i.sum())\n",
    "y_hat\n",
    "\n",
    "\n",
    "# np.array(x).sum()"
   ]
  },
  {
   "cell_type": "markdown",
   "metadata": {},
   "source": [
    "NA값(not available) :값이 들어가지 않거나 계산 불가한 경우 나오는 값"
   ]
  },
  {
   "cell_type": "code",
   "execution_count": 32,
   "metadata": {},
   "outputs": [
    {
     "data": {
      "text/plain": [
       "[0, 1, 2, 3, 4, 5, 6, 7, 8, 9]"
      ]
     },
     "execution_count": 32,
     "metadata": {},
     "output_type": "execute_result"
    }
   ],
   "source": [
    "number = [x for x in range(10)]\n",
    "number\n",
    "# ==\n",
    "# number =[]\n",
    "# for x in range(10):\n",
    "#     number.append(x)"
   ]
  }
 ],
 "metadata": {
  "interpreter": {
   "hash": "e5bc2cf9d9a3d85fb4b9cf5c2acdd222f933ac2e5b2df75a3f82eb3e684a5541"
  },
  "kernelspec": {
   "display_name": "Python 3.10.1 64-bit",
   "language": "python",
   "name": "python3"
  },
  "language_info": {
   "codemirror_mode": {
    "name": "ipython",
    "version": 3
   },
   "file_extension": ".py",
   "mimetype": "text/x-python",
   "name": "python",
   "nbconvert_exporter": "python",
   "pygments_lexer": "ipython3",
   "version": "3.10.1"
  },
  "orig_nbformat": 4
 },
 "nbformat": 4,
 "nbformat_minor": 2
}
